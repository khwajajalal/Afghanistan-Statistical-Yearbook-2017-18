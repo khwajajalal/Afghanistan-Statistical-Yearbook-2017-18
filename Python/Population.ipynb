{
 "cells": [
  {
   "cell_type": "markdown",
   "metadata": {},
   "source": [
    "# Population\n",
    "**Popolation**  \n",
    "The structure and size of the population are principle components in the development planning, which are to\n",
    "be considered while designing development plans and programs.\n",
    "\n",
    "The total population of Afghanistan in the year 1396 (2017-18) was estimated around 29.7 millions of which\n",
    "51 percent are males and 49 percent females. \n",
    "\n",
    "Distribution of population between urban, rural areas shows that out of the settled population 21.1 millions\n",
    "are living in rural areas and 7.1 millions in urban areas. In addition 1.5 million are living as nomads.\n",
    "\n",
    "The most striking feature of the Afghan population is its very young age structure. 47.5 percent ( 14.1\n",
    "millions) are under the age of 15 years, where elderly of 65 and over are around 2.6 percent. The proportion\n",
    "under 15 is among the highest in the world and significantly higher than that of the neighboring countries.\n",
    "\n",
    "This young population contributes to a very high dependency ratio for every 100 persons in the working age\n",
    "15-64, there are 99 persons in the less productive ages, under 15 and over 64.  \n",
    "\n",
    "Based on 2003/05 household listing data, and population census 1979 the growth rate of Afghan population\n",
    "was calculated as 2.03 percent per annum. Population growth due to rural-urban migration is higher in urban\n",
    "areas."
   ]
  },
  {
   "cell_type": "code",
   "execution_count": 4,
   "metadata": {},
   "outputs": [
    {
     "data": {
      "text/html": [
       "        <script type=\"text/javascript\">\n",
       "        window.PlotlyConfig = {MathJaxConfig: 'local'};\n",
       "        if (window.MathJax) {MathJax.Hub.Config({SVG: {font: \"STIX-Web\"}});}\n",
       "        if (typeof require !== 'undefined') {\n",
       "        require.undef(\"plotly\");\n",
       "        requirejs.config({\n",
       "            paths: {\n",
       "                'plotly': ['https://cdn.plot.ly/plotly-latest.min']\n",
       "            }\n",
       "        });\n",
       "        require(['plotly'], function(Plotly) {\n",
       "            window._Plotly = Plotly;\n",
       "        });\n",
       "        }\n",
       "        </script>\n",
       "        "
      ]
     },
     "metadata": {},
     "output_type": "display_data"
    }
   ],
   "source": [
    "import plotly\n",
    "import pandas as pd\n",
    "import plotly.graph_objs as go\n",
    "import country_converter as coco\n",
    "plotly.offline.init_notebook_mode(connected=True)\n",
    "\n",
    "import holoviews as hv\n",
    "\n"
   ]
  },
  {
   "cell_type": "markdown",
   "metadata": {},
   "source": [
    "**18-2017-Groups Age and Sex by Population Settled: 1-2 Table**"
   ]
  },
  {
   "cell_type": "code",
   "execution_count": null,
   "metadata": {},
   "outputs": [],
   "source": []
  },
  {
   "cell_type": "code",
   "execution_count": null,
   "metadata": {},
   "outputs": [],
   "source": []
  }
 ],
 "metadata": {
  "kernelspec": {
   "display_name": "Python 3",
   "language": "python",
   "name": "python3"
  },
  "language_info": {
   "codemirror_mode": {
    "name": "ipython",
    "version": 3
   },
   "file_extension": ".py",
   "mimetype": "text/x-python",
   "name": "python",
   "nbconvert_exporter": "python",
   "pygments_lexer": "ipython3",
   "version": "3.7.3"
  }
 },
 "nbformat": 4,
 "nbformat_minor": 2
}
